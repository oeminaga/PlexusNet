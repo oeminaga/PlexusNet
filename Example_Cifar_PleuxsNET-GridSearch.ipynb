{
 "cells": [
  {
   "cell_type": "code",
   "execution_count": 3,
   "metadata": {},
   "outputs": [],
   "source": [
    "import keras\n",
    "from tensorflow.keras.datasets import cifar100, fashion_mnist,mnist, cifar10\n",
    "import tensorflow as tf\n",
    "from tensorflow.keras.preprocessing.image import ImageDataGenerator\n",
    "from tensorflow.keras import optimizers,callbacks\n",
    "#GPU\n",
    "import os\n",
    "import gc\n",
    "import tensorflow as tf\n",
    "gc.collect()\n",
    "\n",
    "os.environ[\"CUDA_DEVICE_ORDER\"]=\"PCI_BUS_ID\"\n",
    "os.environ[\"CUDA_VISIBLE_DEVICES\"]= \"2\"\n",
    "from tensorflow.compat.v1.keras.backend import set_session\n",
    "config = tf.compat.v1.ConfigProto()\n",
    "config.gpu_options.allow_growth = True\n",
    "set_session(tf.compat.v1.Session(config=config))"
   ]
  },
  {
   "cell_type": "code",
   "execution_count": null,
   "metadata": {},
   "outputs": [],
   "source": [
    "keras.__version__, tf.__version__"
   ]
  },
  {
   "cell_type": "code",
   "execution_count": null,
   "metadata": {},
   "outputs": [],
   "source": [
    "(X_train, y_train), (X_test, y_test) = cifar10.load_data()"
   ]
  },
  {
   "cell_type": "code",
   "execution_count": 6,
   "metadata": {},
   "outputs": [],
   "source": [
    "y_train=tf.keras.utils.to_categorical(y_train, 10)\n",
    "y_test=tf.keras.utils.to_categorical(y_test,10)"
   ]
  },
  {
   "cell_type": "code",
   "execution_count": 7,
   "metadata": {},
   "outputs": [],
   "source": [
    "import numpy as np\n",
    "import random\n",
    "def randomCrop(img_org):\n",
    "    width=32\n",
    "    height=32\n",
    "    img = np.zeros((32+8,+32+8,3))\n",
    "    img[4::,4:]=img_org\n",
    "    assert img.shape[0] >= height\n",
    "    assert img.shape[1] >= width\n",
    "    x = random.randint(0, img.shape[1] - width)\n",
    "    y = random.randint(0, img.shape[0] - height)\n",
    "    img = img[y:y+height, x:x+width]\n",
    "    return img\n",
    "datagen = ImageDataGenerator(\n",
    "    preprocessing_function=randomCrop, horizontal_flip=True)\n",
    "datagen.fit(X_train)"
   ]
  },
  {
   "cell_type": "code",
   "execution_count": 8,
   "metadata": {},
   "outputs": [],
   "source": [
    "# Use scikit-learn to grid search the number of neurons\n",
    "\n",
    "# Function to create model, required for KerasClassifier\n",
    "def create_model(depth=3,length=2, junction=3,initial_filter=8,ApplyTransformer=False,type_of_block=\"inception\"):\n",
    "    os.environ[\"CUDA_DEVICE_ORDER\"]=\"PCI_BUS_ID\"\n",
    "    os.environ[\"CUDA_VISIBLE_DEVICES\"]= \"2\"\n",
    "    from tensorflow.compat.v1.keras.backend import set_session\n",
    "    config = tf.compat.v1.ConfigProto()\n",
    "    config.gpu_options.allow_growth = True\n",
    "    set_session(tf.compat.v1.Session(config=config))\n",
    "\n",
    "\n",
    "    import numpy\n",
    "    from plexusnet.architecture import PlexusNet,Configuration\n",
    "    import tensorflow_addons as tfa\n",
    "    from keras.models import Sequential\n",
    "    from keras.layers import Dense\n",
    "    from keras.layers import Dropout\n",
    "    from keras.constraints import maxnorm\n",
    "    # create model\n",
    "    Configuration[\"num_heads\"]=4\n",
    "    model=PlexusNet(depth=depth,length=length,initial_filter=initial_filter,junction=junction,n_class=10, input_shape=(32,32), type_of_block=type_of_block,ApplyTransformer=ApplyTransformer,ApplyLayerNormalization=True, run_all_BN=False,GlobalPooling=\"avg\").model\n",
    "    opt=tf.optimizers.Adam()\n",
    "    model.compile(optimizer=opt, metrics=[\"acc\"], loss=\"categorical_crossentropy\")   \n",
    "    return model"
   ]
  },
  {
   "cell_type": "code",
   "execution_count": null,
   "metadata": {
    "scrolled": true
   },
   "outputs": [],
   "source": [
    "from tensorflow.keras.wrappers.scikit_learn import KerasClassifier\n",
    "from sklearn.model_selection import GridSearchCV\n",
    "\n",
    "model = KerasClassifier(build_fn=create_model, epochs=1, batch_size=64, verbose=1)\n",
    "\n",
    "depth = [3]\n",
    "length= [3,4,5,6,7,8]\n",
    "junction= [1,2,3]\n",
    "ApplyTransformer=[False,True]\n",
    "initial_filter=[4,8,16,24]\n",
    "type_of_block=[\"inception\", \"resnet\", \"vgg\", \"soft_att\"]\n",
    "param_grid = dict(depth=depth,\n",
    "                  length=length,\n",
    "                  junction=junction,\n",
    "                  ApplyTransformer=ApplyTransformer,\n",
    "                type_of_block=type_of_block,\n",
    "                  initial_filter=initial_filter\n",
    "                 )\n",
    "grid = GridSearchCV(estimator=model, param_grid=param_grid, n_jobs=8, cv=2,verbose=100)\n",
    "grid_result = grid.fit(X_train, y_train)"
   ]
  },
  {
   "cell_type": "code",
   "execution_count": null,
   "metadata": {},
   "outputs": [],
   "source": [
    "grid_result"
   ]
  },
  {
   "cell_type": "code",
   "execution_count": 18,
   "metadata": {},
   "outputs": [],
   "source": [
    "import pandas as pd\n",
    "pd.DataFrame(grid_result.cv_results_).sort_values(\"mean_test_score\",ascending=False).to_csv(\"./search_result_plexusnet.csv\")"
   ]
  },
  {
   "cell_type": "code",
   "execution_count": null,
   "metadata": {},
   "outputs": [],
   "source": [
    "grid_result.best_params_"
   ]
  },
  {
   "cell_type": "code",
   "execution_count": null,
   "metadata": {},
   "outputs": [],
   "source": [
    "grid_result.best_score_"
   ]
  },
  {
   "cell_type": "code",
   "execution_count": null,
   "metadata": {},
   "outputs": [],
   "source": [
    "grid_result.best_estimator_"
   ]
  }
 ],
 "metadata": {
  "kernelspec": {
   "display_name": "Python 3",
   "language": "python",
   "name": "python3"
  },
  "language_info": {
   "codemirror_mode": {
    "name": "ipython",
    "version": 3
   },
   "file_extension": ".py",
   "mimetype": "text/x-python",
   "name": "python",
   "nbconvert_exporter": "python",
   "pygments_lexer": "ipython3",
   "version": "3.8.10"
  }
 },
 "nbformat": 4,
 "nbformat_minor": 2
}
