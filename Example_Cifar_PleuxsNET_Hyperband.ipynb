{
 "cells": [
  {
   "cell_type": "code",
   "execution_count": null,
   "metadata": {},
   "outputs": [],
   "source": [
    "import os\n",
    "os.environ[\"CUDA_DEVICE_ORDER\"]=\"PCI_BUS_ID\"\n",
    "os.environ[\"CUDA_VISIBLE_DEVICES\"]= \"1\"\n",
    "import keras\n",
    "from tensorflow.keras.datasets import cifar100, fashion_mnist,mnist, cifar10\n",
    "from tensorflow.keras.utils import to_categorical\n",
    "import tensorflow as tf\n",
    "from tensorflow.keras.preprocessing.image import ImageDataGenerator\n",
    "from tensorflow.keras import optimizers,callbacks\n",
    "#GPU\n",
    "gpu=1\n",
    "import gc\n",
    "import tensorflow as tf\n",
    "counter_s=0\n",
    "gc.collect()\n",
    "import os\n",
    "from tensorflow.keras.regularizers import l2\n",
    "from tensorflow.compat.v1.keras.backend import set_session\n",
    "config = tf.compat.v1.ConfigProto()\n",
    "config.gpu_options.allow_growth = True\n",
    "set_session(tf.compat.v1.Session(config=config))"
   ]
  },
  {
   "cell_type": "code",
   "execution_count": null,
   "metadata": {},
   "outputs": [],
   "source": [
    "from tensorflow.keras import layers\n",
    "from plexusnet.architecture import PlexusNet"
   ]
  },
  {
   "cell_type": "code",
   "execution_count": 3,
   "metadata": {},
   "outputs": [
    {
     "data": {
      "text/plain": [
       "('2.5.0', '2.5.0')"
      ]
     },
     "execution_count": 3,
     "metadata": {},
     "output_type": "execute_result"
    }
   ],
   "source": [
    "keras.__version__, tf.__version__"
   ]
  },
  {
   "cell_type": "code",
   "execution_count": 4,
   "metadata": {},
   "outputs": [],
   "source": [
    "import keras_tuner as kt"
   ]
  },
  {
   "cell_type": "code",
   "execution_count": 5,
   "metadata": {},
   "outputs": [],
   "source": [
    "(X_train, y_train), (X_test, y_test) = cifar10.load_data()\n"
   ]
  },
  {
   "cell_type": "code",
   "execution_count": 6,
   "metadata": {},
   "outputs": [],
   "source": [
    "y_train=to_categorical(y_train, 10)\n",
    "X_train=X_train/255.0"
   ]
  },
  {
   "cell_type": "code",
   "execution_count": 7,
   "metadata": {},
   "outputs": [],
   "source": [
    "def build_model(hp):\n",
    "    depth=hp.Int('depth', min_value=3,max_value=4)\n",
    "    length=hp.Int('length',min_value=2 ,max_value=6)\n",
    "    junction=hp.Int('junction', min_value=1,max_value=6)\n",
    "    initial_filter=hp.Int('initial_filter', min_value=4, max_value=16, step=4)\n",
    "    type_of_block=hp.Choice('type_of_block', ['inception', 'resnet'])\n",
    "    WEIGHT_DECAY=hp.Float(\"WEIGHT_DECAY\",min_value=1e-6, max_value=1e-3, sampling=\"reverse_log\")\n",
    "    \n",
    "    GlobalPooling=hp.Choice(\"GlobalPooling\",[\"avg\",\"max\"])\n",
    "    model=PlexusNet(depth=depth,length=length,junction=junction,n_class=10, initial_filter=initial_filter,\n",
    "                    input_shape=(32,32), kernel_regularizer=l2(WEIGHT_DECAY), type_of_block=type_of_block, GlobalPooling=GlobalPooling, run_255_division=False,escape_fc1=True).model\n",
    "    # create model\n",
    "    model.compile(loss='categorical_crossentropy', optimizer='adam', metrics=['accuracy'])\n",
    "    return model\n",
    "\n",
    "\n",
    "\n",
    "# log-uniform: understand as search over p = exp(x) by varying x\n",
    "tuner = kt.Hyperband(\n",
    "    hypermodel=build_model,\n",
    "    objective=\"val_accuracy\",\n",
    "    max_epochs=1,\n",
    "    factor=3,\n",
    "    hyperband_iterations=5,\n",
    "    directory=\"plexus_netresults_dir\",\n",
    "    project_name=\"mnist\",\n",
    "    overwrite=True,\n",
    ")"
   ]
  },
  {
   "cell_type": "code",
   "execution_count": null,
   "metadata": {
    "scrolled": false
   },
   "outputs": [],
   "source": [
    "x_val= X_train[45000:]\n",
    "y_val= y_train[45000:]\n",
    "x_train= X_train[:45000]\n",
    "y_train= y_train[:45000]\n",
    "tuner.search(x_train, y_train, epochs=1, validation_data=(x_val, y_val))"
   ]
  },
  {
   "cell_type": "code",
   "execution_count": null,
   "metadata": {},
   "outputs": [],
   "source": [
    "tuner.results_summary()"
   ]
  }
 ],
 "metadata": {
  "kernelspec": {
   "display_name": "Python 3",
   "language": "python",
   "name": "python3"
  },
  "language_info": {
   "codemirror_mode": {
    "name": "ipython",
    "version": 3
   },
   "file_extension": ".py",
   "mimetype": "text/x-python",
   "name": "python",
   "nbconvert_exporter": "python",
   "pygments_lexer": "ipython3",
   "version": "3.8.10"
  }
 },
 "nbformat": 4,
 "nbformat_minor": 4
}
